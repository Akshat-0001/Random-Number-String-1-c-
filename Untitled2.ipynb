{
  "nbformat": 4,
  "nbformat_minor": 0,
  "metadata": {
    "colab": {
      "provenance": [],
      "authorship_tag": "ABX9TyPiHmjxjPCXEve0Cy+/2haU",
      "include_colab_link": true
    },
    "kernelspec": {
      "name": "python3",
      "display_name": "Python 3"
    },
    "language_info": {
      "name": "python"
    }
  },
  "cells": [
    {
      "cell_type": "markdown",
      "metadata": {
        "id": "view-in-github",
        "colab_type": "text"
      },
      "source": [
        "<a href=\"https://colab.research.google.com/github/Akshat-0001/Random-Number-String-1-c-/blob/main/Untitled2.ipynb\" target=\"_parent\"><img src=\"https://colab.research.google.com/assets/colab-badge.svg\" alt=\"Open In Colab\"/></a>"
      ]
    },
    {
      "cell_type": "code",
      "execution_count": null,
      "metadata": {
        "colab": {
          "base_uri": "https://localhost:8080/"
        },
        "id": "1ds_oMbEFSdV",
        "outputId": "02faae28-780d-4b7c-d116-f250bf2f2d21"
      },
      "outputs": [
        {
          "output_type": "stream",
          "name": "stdout",
          "text": [
            "r.random() --> 0.31725513997722077\n",
            "r.random() --> 0.715470291974822\n",
            "r.random() --> 0.6551402110214335\n"
          ]
        }
      ],
      "source": [
        "#--------------------------------------------\n",
        "# 1.1: Generate random number between 0 and 1\n",
        "#--------------------------------------------\n",
        "import random as r\n",
        "print (\"r.random() -->\", r.random())        # Random number between 0 and 1\n",
        "print (\"r.random() -->\", r.random())\n",
        "print (\"r.random() -->\", r.random())"
      ]
    },
    {
      "cell_type": "code",
      "source": [
        "#-------------------------------------\n",
        "# 1.2: Generate random integer number\n",
        "#-------------------------------------\n",
        "import random as r\n",
        "print (\"r.randint(  1, 10) -->\", r.randint(1, 10))\n",
        "print (\"r.randint(  1, 10) -->\", r.randint(1, 10))\n",
        "print (\"r.randint(-10, 10) -->\", r.randint(-10, 10))\n",
        "print (\"r.randint(-10, 10) -->\", r.randint(-10, 10))"
      ],
      "metadata": {
        "colab": {
          "base_uri": "https://localhost:8080/"
        },
        "id": "cjd-0t-TFgSj",
        "outputId": "57b9d7cd-35a6-4702-a771-b9e0833882b9"
      },
      "execution_count": null,
      "outputs": [
        {
          "output_type": "stream",
          "name": "stdout",
          "text": [
            "r.randint(  1, 10) --> 5\n",
            "r.randint(  1, 10) --> 6\n",
            "r.randint(-10, 10) --> -10\n",
            "r.randint(-10, 10) --> -6\n"
          ]
        }
      ]
    },
    {
      "cell_type": "code",
      "source": [
        "#----------------------------------\n",
        "# 1.3: Generate random real number\n",
        "#----------------------------------\n",
        "import random as r\n",
        "\n",
        "print (\"r.uniform(1, 100)   -->\", r.uniform(1, 100))\n",
        "print (\"r.uniform(1, 100)   -->\", round(r.uniform(1, 100),2))\n",
        "print (\"r.uniform (-10, 10) -->\", r.uniform (-10, 10))\n",
        "print (\"r.uniform (-10, 10) -->\", round(r.uniform (-10, 10),4))"
      ],
      "metadata": {
        "colab": {
          "base_uri": "https://localhost:8080/"
        },
        "id": "yXYymn5fFWf5",
        "outputId": "c7de4d55-d2f6-4e16-a643-f6b44997e50c"
      },
      "execution_count": null,
      "outputs": [
        {
          "output_type": "stream",
          "name": "stdout",
          "text": [
            "r.uniform(1, 100)   --> 86.10946177801607\n",
            "r.uniform(1, 100)   --> 49.27\n",
            "r.uniform (-10, 10) --> 9.990905231699994\n",
            "r.uniform (-10, 10) --> -0.2063\n"
          ]
        }
      ]
    },
    {
      "cell_type": "code",
      "source": [
        "#----------------------------------------------\n",
        "# 1.4: Generate sample from a list of elements\n",
        "#----------------------------------------------\n",
        "import random as r\n",
        "\n",
        "A = [1, 2, 3, 4, 5, 6, 7, 8, 9, 10, 11, 12, 13, 14, 15]  # A is a list\n",
        "print (\"A            --> \",A)\n",
        "\n",
        "print (\"\")\n",
        "print (\"sample(A, 4) --> \",r.sample(A, 5))\n",
        "print (\"sample(A, 2) --> \",r.sample(A, 3))\n",
        "\n",
        "print (\"\")\n",
        "print (\"sample(range(1,75),2) --> \",r.sample(range(1,75), 2))\n",
        "print (\"sample(range(1,75),2) --> \",r.sample(range(1,75), 2))"
      ],
      "metadata": {
        "colab": {
          "base_uri": "https://localhost:8080/"
        },
        "id": "W-UEAbMnFWjF",
        "outputId": "ff832a16-7208-46da-cac4-3b8b79544ef5"
      },
      "execution_count": null,
      "outputs": [
        {
          "output_type": "stream",
          "name": "stdout",
          "text": [
            "A            -->  [1, 2, 3, 4, 5, 6, 7, 8, 9, 10, 11, 12, 13, 14, 15]\n",
            "\n",
            "sample(A, 4) -->  [10, 11, 8, 6, 15]\n",
            "sample(A, 2) -->  [2, 10, 12]\n",
            "\n",
            "sample(range(1,75),2) -->  [59, 27]\n",
            "sample(range(1,75),2) -->  [7, 14]\n"
          ]
        }
      ]
    },
    {
      "cell_type": "code",
      "source": [
        "#-------------------------------\n",
        "# 1.5: Generate random string\n",
        "#-----------------------------\n",
        "import string as s\n",
        "import random as r\n",
        "print (\"String  --> \",s.ascii_letters)\n",
        "\n",
        "passwd = r.sample(s.ascii_letters, 5)\n",
        "print (\"\")\n",
        "print (\"password_1 --> \",passwd)\n",
        "passwd = \"\".join(passwd)            \n",
        "print (\"password_1 --> \",passwd)"
      ],
      "metadata": {
        "colab": {
          "base_uri": "https://localhost:8080/"
        },
        "id": "hrcjDxK3FWnr",
        "outputId": "a91d4da7-6a7f-40fc-815f-d62454ee72d2"
      },
      "execution_count": null,
      "outputs": [
        {
          "output_type": "stream",
          "name": "stdout",
          "text": [
            "String  -->  abcdefghijklmnopqrstuvwxyzABCDEFGHIJKLMNOPQRSTUVWXYZ\n",
            "\n",
            "password_1 -->  ['J', 'h', 'Z', 'S', 'l']\n",
            "password_1 -->  JhZSl\n"
          ]
        }
      ]
    },
    {
      "cell_type": "code",
      "source": [
        "#-----------------------------------\n",
        "# 1.6: Generate random digits (OTP)\n",
        "#-----------------------------------\n",
        "import string as s\n",
        "import random as r\n",
        "print (\"Digits --> \",s.digits)\n",
        "\n",
        "otp = r.sample(s.digits, 5)\n",
        "print (\"\")\n",
        "print (\"otp --> \",otp)\n",
        "otp = \"\".join(otp)\n",
        "print (\"otp --> \",otp)"
      ],
      "metadata": {
        "colab": {
          "base_uri": "https://localhost:8080/"
        },
        "id": "a3UF646JFWrc",
        "outputId": "aaf63745-7c98-47df-a324-0dcddc0242c0"
      },
      "execution_count": null,
      "outputs": [
        {
          "output_type": "stream",
          "name": "stdout",
          "text": [
            "Digits -->  0123456789\n",
            "\n",
            "otp -->  ['4', '5', '6', '9', '7']\n",
            "otp -->  45697\n"
          ]
        }
      ]
    },
    {
      "cell_type": "code",
      "source": [
        "#----------------------------------------------------\n",
        "# 1.8: Generate random string + digits + special char\n",
        "#----------------------------------------------------\n",
        "import string as s\n",
        "import random as r\n",
        "\n",
        "splChar = \"#@!~%^&*()_+=-[]{}|\"\n",
        "\n",
        "mixPasswd = r.sample(splChar + s.ascii_letters + s.digits, 12)\n",
        "print (\"mix_Password --> \",mixPasswd)\n",
        "mixPasswd = \"\".join(mixPasswd)\n",
        "print (\"\")\n",
        "print (\"mix_Password --> \",mixPasswd)"
      ],
      "metadata": {
        "colab": {
          "base_uri": "https://localhost:8080/"
        },
        "id": "WRSnJMESFW08",
        "outputId": "359934ea-1e02-424d-f074-98f1c3265019"
      },
      "execution_count": null,
      "outputs": [
        {
          "output_type": "stream",
          "name": "stdout",
          "text": [
            "mix_Password -->  ['=', '_', 'l', 'g', 'Z', 'M', 'J', 'R', '@', 'p', 'k', '#']\n",
            "\n",
            "mix_Password -->  =_lgZMJR@pk#\n"
          ]
        }
      ]
    },
    {
      "cell_type": "code",
      "source": [
        "#-------------------------------------------\n",
        "# 2.1: Error Generation 2: Division by Zero\n",
        "#-------------------------------------------\n",
        "for i in range(-4,7):\n",
        "    print (\"100/\",i,\"-->\", 100/i)"
      ],
      "metadata": {
        "colab": {
          "base_uri": "https://localhost:8080/",
          "height": 269
        },
        "id": "KaG809iUFW5G",
        "outputId": "564cca40-25ce-4c4d-a9e6-72f94e002a66"
      },
      "execution_count": null,
      "outputs": [
        {
          "output_type": "stream",
          "name": "stdout",
          "text": [
            "100/ -4 --> -25.0\n",
            "100/ -3 --> -33.333333333333336\n",
            "100/ -2 --> -50.0\n",
            "100/ -1 --> -100.0\n"
          ]
        },
        {
          "output_type": "error",
          "ename": "ZeroDivisionError",
          "evalue": "ignored",
          "traceback": [
            "\u001b[0;31m---------------------------------------------------------------------------\u001b[0m",
            "\u001b[0;31mZeroDivisionError\u001b[0m                         Traceback (most recent call last)",
            "\u001b[0;32m<ipython-input-32-2b7a50dfe8c1>\u001b[0m in \u001b[0;36m<module>\u001b[0;34m\u001b[0m\n\u001b[1;32m      3\u001b[0m \u001b[0;31m#-------------------------------------------\u001b[0m\u001b[0;34m\u001b[0m\u001b[0;34m\u001b[0m\u001b[0;34m\u001b[0m\u001b[0m\n\u001b[1;32m      4\u001b[0m \u001b[0;32mfor\u001b[0m \u001b[0mi\u001b[0m \u001b[0;32min\u001b[0m \u001b[0mrange\u001b[0m\u001b[0;34m(\u001b[0m\u001b[0;34m-\u001b[0m\u001b[0;36m4\u001b[0m\u001b[0;34m,\u001b[0m\u001b[0;36m7\u001b[0m\u001b[0;34m)\u001b[0m\u001b[0;34m:\u001b[0m\u001b[0;34m\u001b[0m\u001b[0;34m\u001b[0m\u001b[0m\n\u001b[0;32m----> 5\u001b[0;31m     \u001b[0mprint\u001b[0m \u001b[0;34m(\u001b[0m\u001b[0;34m\"100/\"\u001b[0m\u001b[0;34m,\u001b[0m\u001b[0mi\u001b[0m\u001b[0;34m,\u001b[0m\u001b[0;34m\"-->\"\u001b[0m\u001b[0;34m,\u001b[0m \u001b[0;36m100\u001b[0m\u001b[0;34m/\u001b[0m\u001b[0mi\u001b[0m\u001b[0;34m)\u001b[0m\u001b[0;34m\u001b[0m\u001b[0;34m\u001b[0m\u001b[0m\n\u001b[0m",
            "\u001b[0;31mZeroDivisionError\u001b[0m: division by zero"
          ]
        }
      ]
    },
    {
      "cell_type": "code",
      "source": [
        "#----------------------------------------------\n",
        "# 2.2: Exception handling for division by zero\n",
        "#----------------------------------------------\n",
        "for i in range(-4,7):\n",
        "    try:\n",
        "        print (\"100 /\",i,\"-->\", 100/i)\n",
        "    except:\n",
        "        print (\"error\")"
      ],
      "metadata": {
        "colab": {
          "base_uri": "https://localhost:8080/"
        },
        "id": "HAJOLhPGFW8P",
        "outputId": "80effb58-491a-4122-9554-7fcab98a262f"
      },
      "execution_count": null,
      "outputs": [
        {
          "output_type": "stream",
          "name": "stdout",
          "text": [
            "100 / -4 --> -25.0\n",
            "100 / -3 --> -33.333333333333336\n",
            "100 / -2 --> -50.0\n",
            "100 / -1 --> -100.0\n",
            "error\n",
            "100 / 1 --> 100.0\n",
            "100 / 2 --> 50.0\n",
            "100 / 3 --> 33.333333333333336\n",
            "100 / 4 --> 25.0\n",
            "100 / 5 --> 20.0\n",
            "100 / 6 --> 16.666666666666668\n"
          ]
        }
      ]
    },
    {
      "cell_type": "code",
      "source": [
        "#-----------------------------------------------\n",
        "# 2.3: Error Generation 1: Variable not Defined\n",
        "#-----------------------------------------------\n",
        "print(\"y = \", y)"
      ],
      "metadata": {
        "colab": {
          "base_uri": "https://localhost:8080/",
          "height": 200
        },
        "id": "PId8sI6BFXB9",
        "outputId": "9f6548f1-50b2-4a71-f218-20afcb49a568"
      },
      "execution_count": null,
      "outputs": [
        {
          "output_type": "error",
          "ename": "NameError",
          "evalue": "ignored",
          "traceback": [
            "\u001b[0;31m---------------------------------------------------------------------------\u001b[0m",
            "\u001b[0;31mNameError\u001b[0m                                 Traceback (most recent call last)",
            "\u001b[0;32m<ipython-input-34-e20ffa17e687>\u001b[0m in \u001b[0;36m<module>\u001b[0;34m\u001b[0m\n\u001b[1;32m      2\u001b[0m \u001b[0;31m# 2.3: Error Generation 1: Variable not Defined\u001b[0m\u001b[0;34m\u001b[0m\u001b[0;34m\u001b[0m\u001b[0;34m\u001b[0m\u001b[0m\n\u001b[1;32m      3\u001b[0m \u001b[0;31m#-----------------------------------------------\u001b[0m\u001b[0;34m\u001b[0m\u001b[0;34m\u001b[0m\u001b[0;34m\u001b[0m\u001b[0m\n\u001b[0;32m----> 4\u001b[0;31m \u001b[0mprint\u001b[0m\u001b[0;34m(\u001b[0m\u001b[0;34m\"y = \"\u001b[0m\u001b[0;34m,\u001b[0m \u001b[0my\u001b[0m\u001b[0;34m)\u001b[0m\u001b[0;34m\u001b[0m\u001b[0;34m\u001b[0m\u001b[0m\n\u001b[0m",
            "\u001b[0;31mNameError\u001b[0m: name 'y' is not defined"
          ]
        }
      ]
    },
    {
      "cell_type": "code",
      "source": [
        "#------------------------------------------------\n",
        "# 2.4: Exception handling:  Variable not Defined\n",
        "#------------------------------------------------\n",
        "try:\n",
        "  print(\"y = \", y)\n",
        "except:\n",
        "  print(\"An exception occurred; x is not defined\")\n",
        "  "
      ],
      "metadata": {
        "colab": {
          "base_uri": "https://localhost:8080/"
        },
        "id": "ytZej5c0F9H1",
        "outputId": "61b1da71-8059-4067-d14c-a02b183d902a"
      },
      "execution_count": null,
      "outputs": [
        {
          "output_type": "stream",
          "name": "stdout",
          "text": [
            "An exception occurred; x is not defined\n"
          ]
        }
      ]
    },
    {
      "cell_type": "code",
      "source": [
        "#-----------------------------------------------\n",
        "# 2.5: Exception handling:  Variable not Defined\n",
        "#-----------------------------------------------\n",
        "try:\n",
        "  print(\"y = \", y)\n",
        "except NameError:\n",
        "  print(\"Variable x is not defined\")\n",
        "except:\n",
        "  print(\"Something else went wrong\")"
      ],
      "metadata": {
        "colab": {
          "base_uri": "https://localhost:8080/"
        },
        "id": "oP0G_J95FXFu",
        "outputId": "c55640c6-bcbd-47ea-a83b-98bda114d9aa"
      },
      "execution_count": null,
      "outputs": [
        {
          "output_type": "stream",
          "name": "stdout",
          "text": [
            "Variable x is not defined\n"
          ]
        }
      ]
    },
    {
      "cell_type": "code",
      "source": [
        "#------------------------------------------\n",
        "# 2.6: Exception handling:  else without if\n",
        "#------------------------------------------\n",
        "\n",
        "try:\n",
        "  print(\"Namaste\")\n",
        "except:\n",
        "  print(\"Something went wrong\")\n",
        "else:\n",
        "  print(\"Nothing went wrong\\n\")"
      ],
      "metadata": {
        "colab": {
          "base_uri": "https://localhost:8080/"
        },
        "id": "KvjJCzSLFXKj",
        "outputId": "0da8c630-0326-443e-db11-5b4dc2ade647"
      },
      "execution_count": 2,
      "outputs": [
        {
          "output_type": "stream",
          "name": "stdout",
          "text": [
            "Namaste\n",
            "Nothing went wrong\n",
            "\n"
          ]
        }
      ]
    },
    {
      "cell_type": "code",
      "source": [
        "#----------------------\n",
        "# 2.7: Finally block\n",
        "#----------------------\n",
        "\n",
        "try:\n",
        "  print(\"y = \", y)\n",
        "except:\n",
        "  print(\"Something went wrong\")\n",
        "finally:\n",
        "  print(\"The 'try except' is finished\")"
      ],
      "metadata": {
        "colab": {
          "base_uri": "https://localhost:8080/"
        },
        "id": "9-exb21vFXOx",
        "outputId": "59e9ada6-17d0-4249-fd32-081d4ebdb695"
      },
      "execution_count": null,
      "outputs": [
        {
          "output_type": "stream",
          "name": "stdout",
          "text": [
            "Something went wrong\n",
            "The 'try except' is finished\n"
          ]
        }
      ]
    },
    {
      "cell_type": "code",
      "source": [
        "#------------------------------------------------\n",
        "# 2.8: Exception handling for array out of index\n",
        "#------------------------------------------------\n",
        "L = [1, 2, 3, 4, 5]\n",
        "\n",
        "for i in range(7):\n",
        "    try:\n",
        "        print (i,\"-->\",L[i])\n",
        "    except:\n",
        "        print (\"error\")"
      ],
      "metadata": {
        "colab": {
          "base_uri": "https://localhost:8080/"
        },
        "id": "H9deivarGJpt",
        "outputId": "fea15ec4-a45c-49cd-bd39-38fefa21845a"
      },
      "execution_count": null,
      "outputs": [
        {
          "output_type": "stream",
          "name": "stdout",
          "text": [
            "0 --> 1\n",
            "1 --> 2\n",
            "2 --> 3\n",
            "3 --> 4\n",
            "4 --> 5\n",
            "error\n",
            "error\n"
          ]
        }
      ]
    },
    {
      "cell_type": "code",
      "source": [
        "#--------------------------------------------\n",
        "# 2.9: Exception handling for file not found\n",
        "#--------------------------------------------\n",
        "fileName = input(\"Enter File Name: \")\n",
        "fp = open(fileName)     # Open the file in reading mode\n",
        "fp.close()\n",
        "print (\"Done\")"
      ],
      "metadata": {
        "colab": {
          "base_uri": "https://localhost:8080/",
          "height": 252
        },
        "id": "YQy1KataGJsb",
        "outputId": "54e88c0a-5b85-47b4-ddf7-f577a4ef9f1a"
      },
      "execution_count": null,
      "outputs": [
        {
          "name": "stdout",
          "output_type": "stream",
          "text": [
            "Enter File Name: Katsura\n"
          ]
        },
        {
          "output_type": "error",
          "ename": "FileNotFoundError",
          "evalue": "ignored",
          "traceback": [
            "\u001b[0;31m---------------------------------------------------------------------------\u001b[0m",
            "\u001b[0;31mFileNotFoundError\u001b[0m                         Traceback (most recent call last)",
            "\u001b[0;32m<ipython-input-24-7b20f984bd18>\u001b[0m in \u001b[0;36m<module>\u001b[0;34m\u001b[0m\n\u001b[1;32m      3\u001b[0m \u001b[0;31m#--------------------------------------------\u001b[0m\u001b[0;34m\u001b[0m\u001b[0;34m\u001b[0m\u001b[0;34m\u001b[0m\u001b[0m\n\u001b[1;32m      4\u001b[0m \u001b[0mfileName\u001b[0m \u001b[0;34m=\u001b[0m \u001b[0minput\u001b[0m\u001b[0;34m(\u001b[0m\u001b[0;34m\"Enter File Name: \"\u001b[0m\u001b[0;34m)\u001b[0m\u001b[0;34m\u001b[0m\u001b[0;34m\u001b[0m\u001b[0m\n\u001b[0;32m----> 5\u001b[0;31m \u001b[0mfp\u001b[0m \u001b[0;34m=\u001b[0m \u001b[0mopen\u001b[0m\u001b[0;34m(\u001b[0m\u001b[0mfileName\u001b[0m\u001b[0;34m)\u001b[0m     \u001b[0;31m# Open the file in reading mode\u001b[0m\u001b[0;34m\u001b[0m\u001b[0;34m\u001b[0m\u001b[0m\n\u001b[0m\u001b[1;32m      6\u001b[0m \u001b[0mfp\u001b[0m\u001b[0;34m.\u001b[0m\u001b[0mclose\u001b[0m\u001b[0;34m(\u001b[0m\u001b[0;34m)\u001b[0m\u001b[0;34m\u001b[0m\u001b[0;34m\u001b[0m\u001b[0m\n\u001b[1;32m      7\u001b[0m \u001b[0mprint\u001b[0m \u001b[0;34m(\u001b[0m\u001b[0;34m\"Done\"\u001b[0m\u001b[0;34m)\u001b[0m\u001b[0;34m\u001b[0m\u001b[0;34m\u001b[0m\u001b[0m\n",
            "\u001b[0;31mFileNotFoundError\u001b[0m: [Errno 2] No such file or directory: 'Katsura'"
          ]
        }
      ]
    },
    {
      "cell_type": "code",
      "source": [
        "#----------------------------------------------\n",
        "# 2.10: Exception handaling for file not found\n",
        "#----------------------------------------------\n",
        "fileName=input(\"Enter File Name: \")\n",
        "try:\n",
        "    fp=open(fileName)        # Open the file in reading mode\n",
        "    fp.close()\n",
        "except:\n",
        "    print (\"Error !! %s file Not Found\"%(fileName))\n",
        "\n",
        "print (\"Done\")"
      ],
      "metadata": {
        "colab": {
          "base_uri": "https://localhost:8080/"
        },
        "id": "fLdKBClhGJwp",
        "outputId": "8f658045-1d7a-4818-9fa1-0fcd532c0861"
      },
      "execution_count": null,
      "outputs": [
        {
          "output_type": "stream",
          "name": "stdout",
          "text": [
            "Enter File Name: Katsura\n",
            "Error !! Katsura file Not Found\n",
            "Done\n"
          ]
        }
      ]
    },
    {
      "cell_type": "code",
      "source": [
        "#-------------------------------------------\n",
        "# 2.11: Exception handling: Input from user\n",
        "#-------------------------------------------\n",
        "# Add two numbers given by the user\n",
        "\n",
        "try:\n",
        "    a = int(input(\"Enter first number: \"))\n",
        "    b = int(input(\"Enter second number: \"))\n",
        "    c = a + b\n",
        "    print (a, \"+\", b, \"=\", c)\n",
        "except:\n",
        "    print(\"\\nError !! a or b is not of int type !!\")"
      ],
      "metadata": {
        "colab": {
          "base_uri": "https://localhost:8080/"
        },
        "id": "6WFi4wSDGJ0l",
        "outputId": "24c3af19-8da8-40b3-80e5-83cd3b5a56d3"
      },
      "execution_count": null,
      "outputs": [
        {
          "output_type": "stream",
          "name": "stdout",
          "text": [
            "Enter first number: 32\n",
            "Enter second number: 23\n",
            "32 + 23 = 55\n"
          ]
        }
      ]
    },
    {
      "cell_type": "code",
      "source": [
        "#-------------------------------------------\n",
        "# 2.12: Exception handaling: Input from user \n",
        "#-------------------------------------------\n",
        "# Add two numbers given by user\n",
        "\n",
        "try:\n",
        "    a = int(input(\"Enter first number: \"))\n",
        "except:\n",
        "    print(\"\\nError !! a is not of int type !!\")\n",
        "    exit(0)\n",
        "\n",
        "try:\n",
        "    b = int(input(\"Enter second number: \"))\n",
        "except:\n",
        "    print(\"\\nError !! b is not of int type !!\")\n",
        "    exit(0)\n",
        "\n",
        "c = a + b\n",
        "\n",
        "print (a,\" + \", b, \" = \", c)"
      ],
      "metadata": {
        "colab": {
          "base_uri": "https://localhost:8080/"
        },
        "id": "om6RMa28GQFg",
        "outputId": "928ae9bc-372b-420f-95ec-fd4b15762083"
      },
      "execution_count": null,
      "outputs": [
        {
          "output_type": "stream",
          "name": "stdout",
          "text": [
            "Enter first number: 12\n",
            "Enter second number: 75\n",
            "12  +  75  =  87\n"
          ]
        }
      ]
    },
    {
      "cell_type": "code",
      "source": [
        "#-------------------------\n",
        "# 2.13: Raise Exception 1\n",
        "#-------------------------\n",
        "x = -4\n",
        "\n",
        "if x < 0:\n",
        "  raise Exception(\"Sorry, no numbers below zero\") "
      ],
      "metadata": {
        "id": "XTtqhtlaGJ6X"
      },
      "execution_count": null,
      "outputs": []
    },
    {
      "cell_type": "code",
      "source": [
        "#-------------------------\n",
        "# 2.14: Raise Exception 2\n",
        "#-------------------------\n",
        "x = \"Namaste\"\n",
        "\n",
        "if type(x) is not int:\n",
        "  raise TypeError(\"Only integers are allowed\")"
      ],
      "metadata": {
        "colab": {
          "base_uri": "https://localhost:8080/",
          "height": 200
        },
        "id": "0JLCsAdRGJ_U",
        "outputId": "fd61f27c-d4a5-437d-d4eb-7228003b16f9"
      },
      "execution_count": 1,
      "outputs": [
        {
          "output_type": "error",
          "ename": "TypeError",
          "evalue": "ignored",
          "traceback": [
            "\u001b[0;31m---------------------------------------------------------------------------\u001b[0m",
            "\u001b[0;31mTypeError\u001b[0m                                 Traceback (most recent call last)",
            "\u001b[0;32m<ipython-input-1-339b78242d8f>\u001b[0m in \u001b[0;36m<module>\u001b[0;34m\u001b[0m\n\u001b[1;32m      5\u001b[0m \u001b[0;34m\u001b[0m\u001b[0m\n\u001b[1;32m      6\u001b[0m \u001b[0;32mif\u001b[0m \u001b[0mtype\u001b[0m\u001b[0;34m(\u001b[0m\u001b[0mx\u001b[0m\u001b[0;34m)\u001b[0m \u001b[0;32mis\u001b[0m \u001b[0;32mnot\u001b[0m \u001b[0mint\u001b[0m\u001b[0;34m:\u001b[0m\u001b[0;34m\u001b[0m\u001b[0;34m\u001b[0m\u001b[0m\n\u001b[0;32m----> 7\u001b[0;31m   \u001b[0;32mraise\u001b[0m \u001b[0mTypeError\u001b[0m\u001b[0;34m(\u001b[0m\u001b[0;34m\"Only integers are allowed\"\u001b[0m\u001b[0;34m)\u001b[0m\u001b[0;34m\u001b[0m\u001b[0;34m\u001b[0m\u001b[0m\n\u001b[0m",
            "\u001b[0;31mTypeError\u001b[0m: Only integers are allowed"
          ]
        }
      ]
    }
  ]
}